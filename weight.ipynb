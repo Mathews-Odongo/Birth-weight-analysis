{
 "cells": [
  {
   "cell_type": "markdown",
   "id": "5de35c34",
   "metadata": {},
   "source": [
    "#INTRODUCTION\n",
    "Problem Statement\n",
    "Birth weight is a critical indicator of newborn health and future developmental outcomes. Low birth weight (LBW) is linked to increased risks of infant mortality, chronic health conditions, and developmental challenges. Healthcare providers, public health agencies, and policymakers require data-driven insights to identify risk factors and implement effective interventions for improving neonatal health outcomes.\n",
    "\n",
    "Project Goal\n",
    "This project seeks to:\n",
    "\n",
    "Analyze correlations between prenatal care, maternal health, and birth outcomes.\n",
    "\n",
    "Provide evidence-based recommendations for reducing LBW incidence and enhancing neonatal care.\n",
    "\n",
    "Key Questions\n",
    "What maternal factors (e.g., age, BMI, health conditions) most strongly correlate with birth weight?\n",
    "\n",
    "Are there patterns in birth weight related to prenatal care quality,lifestyle habits(smoking)\n",
    "\n",
    "What interventions (e.g., nutritional programs, healthcare policies) show the greatest potential for improving birth weight?\n",
    "\n",
    "Target Audience\n",
    "Healthcare providers (OB-GYNs, midwives, pediatricians)\n",
    "\n",
    "Public health departments and policymakers\n",
    "\n",
    "Researchers in maternal and child health\n",
    "\n",
    "Health insurance providers and community health organizations"
   ]
  },
  {
   "cell_type": "markdown",
   "id": "b111ae36",
   "metadata": {},
   "source": [
    "# 2. Data Understanding\n",
    "We'll now systematically explore each dataset to understand:\n",
    "\n",
    "Structure (columns and data types)\n",
    "\n",
    "- Sample data (via .head())\n",
    "\n",
    "- Missing values\n",
    "\n",
    "- Duplicates\n",
    "\n",
    "- Basic statistics (via .describe())"
   ]
  },
  {
   "cell_type": "code",
   "execution_count": 2,
   "id": "72dbf05f",
   "metadata": {},
   "outputs": [],
   "source": [
    "#import libraries\n",
    "import pandas as pd\n",
    "import numpy as np\n",
    "import matplotlib.pyplot as plt\n",
    "import seaborn as sns\n"
   ]
  },
  {
   "cell_type": "markdown",
   "id": "4e1d382c",
   "metadata": {},
   "source": [
    "## LOAD DATA SET"
   ]
  },
  {
   "cell_type": "code",
   "execution_count": 4,
   "id": "159f5fce",
   "metadata": {},
   "outputs": [
    {
     "data": {
      "text/plain": [
       "<bound method NDFrame.head of       case  bwt  gestation  parity   age  height  weight  smoke\n",
       "0        1  120      284.0       0  27.0    62.0   100.0    0.0\n",
       "1        2  113      282.0       0  33.0    64.0   135.0    0.0\n",
       "2        3  128      279.0       0  28.0    64.0   115.0    1.0\n",
       "3        4  123        NaN       0  36.0    69.0   190.0    0.0\n",
       "4        5  108      282.0       0  23.0    67.0   125.0    1.0\n",
       "...    ...  ...        ...     ...   ...     ...     ...    ...\n",
       "1231  1232  113      275.0       1  27.0    60.0   100.0    0.0\n",
       "1232  1233  128      265.0       0  24.0    67.0   120.0    0.0\n",
       "1233  1234  130      291.0       0  30.0    65.0   150.0    1.0\n",
       "1234  1235  125      281.0       1  21.0    65.0   110.0    0.0\n",
       "1235  1236  117      297.0       0  38.0    65.0   129.0    0.0\n",
       "\n",
       "[1236 rows x 8 columns]>"
      ]
     },
     "execution_count": 4,
     "metadata": {},
     "output_type": "execute_result"
    }
   ],
   "source": [
    "df = pd.read_csv(\"Dataset/babies.csv\")\n",
    "df.head"
   ]
  }
 ],
 "metadata": {
  "kernelspec": {
   "display_name": "base",
   "language": "python",
   "name": "python3"
  },
  "language_info": {
   "codemirror_mode": {
    "name": "ipython",
    "version": 3
   },
   "file_extension": ".py",
   "mimetype": "text/x-python",
   "name": "python",
   "nbconvert_exporter": "python",
   "pygments_lexer": "ipython3",
   "version": "3.12.7"
  }
 },
 "nbformat": 4,
 "nbformat_minor": 5
}
